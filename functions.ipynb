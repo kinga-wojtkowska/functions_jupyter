{
 "cells": [
  {
   "cell_type": "markdown",
   "metadata": {},
   "source": [
    "# Jak tworzymy funkcje w Pythonie\n",
    "1. Używamy słowa kluczowego *def*, a następnie podajemy nazwę funkcji. Całość zamykamy dwoma nawiasami okrągłymi () i dwukropkiem. Jeśli chcemy uzależnić funkcję od jakichś zmiennych, to podajemy ich nazwy w nawiasie."
   ]
  },
  {
   "cell_type": "code",
   "execution_count": 3,
   "metadata": {},
   "outputs": [],
   "source": [
    "def multiply(a, b):\n",
    "    c = a * b\n",
    "    return f\"wynik mnożenia liczby {a} przez {b} to {c}\""
   ]
  },
  {
   "cell_type": "markdown",
   "metadata": {},
   "source": [
    "2. Aby wywołać funkcję należy wpisać jej nazwę w konsoli i podać tyle zmiennych ile zadeklarowaliśmy w funkcji. Jeśli funkcja nie zależy od zmiennych wystarczy wywołać nazwę zakończoną nawiasami."
   ]
  },
  {
   "cell_type": "code",
   "execution_count": 4,
   "metadata": {},
   "outputs": [
    {
     "data": {
      "text/plain": [
       "'wynik mnożenia liczby 5 przez 6 to 30'"
      ]
     },
     "execution_count": 4,
     "metadata": {},
     "output_type": "execute_result"
    }
   ],
   "source": [
    "a = 5\n",
    "b = 6\n",
    "multiply(a, b)"
   ]
  },
  {
   "cell_type": "code",
   "execution_count": null,
   "metadata": {},
   "outputs": [],
   "source": []
  }
 ],
 "metadata": {
  "kernelspec": {
   "display_name": "Python 3",
   "language": "python",
   "name": "python3"
  },
  "language_info": {
   "codemirror_mode": {
    "name": "ipython",
    "version": 3
   },
   "file_extension": ".py",
   "mimetype": "text/x-python",
   "name": "python",
   "nbconvert_exporter": "python",
   "pygments_lexer": "ipython3",
   "version": "3.8.3"
  }
 },
 "nbformat": 4,
 "nbformat_minor": 4
}
